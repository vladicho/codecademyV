{
  "nbformat": 4,
  "nbformat_minor": 0,
  "metadata": {
    "colab": {
      "name": "ciscaochao.ipynb",
      "provenance": [],
      "authorship_tag": "ABX9TyND6rCzVTPCbBkfBG1c6S4O",
      "include_colab_link": true
    },
    "kernelspec": {
      "name": "python3",
      "display_name": "Python 3"
    },
    "language_info": {
      "name": "python"
    }
  },
  "cells": [
    {
      "cell_type": "markdown",
      "metadata": {
        "id": "view-in-github",
        "colab_type": "text"
      },
      "source": [
        "<a href=\"https://colab.research.google.com/github/vladicho/codecademyV/blob/master/ciscaochao.ipynb\" target=\"_parent\"><img src=\"https://colab.research.google.com/assets/colab-badge.svg\" alt=\"Open In Colab\"/></a>"
      ]
    },
    {
      "cell_type": "code",
      "execution_count": 7,
      "metadata": {
        "colab": {
          "base_uri": "https://localhost:8080/"
        },
        "id": "1zI2ar8GGFcI",
        "outputId": "0074a42d-cf77-4428-f991-c0fa8bc3548c"
      },
      "outputs": [
        {
          "output_type": "stream",
          "name": "stdout",
          "text": [
            "ola povo brasileiro :-\n"
          ]
        }
      ],
      "source": [
        "print(\"ola povo brasileiro :-\")"
      ]
    }
  ]
}